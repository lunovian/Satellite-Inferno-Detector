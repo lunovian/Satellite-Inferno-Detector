{
 "cells": [
  {
   "cell_type": "code",
   "execution_count": null,
   "metadata": {},
   "outputs": [],
   "source": [
    "import pandas as pd\n",
    "\n",
    "def split_csv(file_path, chunk_size):\n",
    "    # Read the CSV file\n",
    "    df = pd.read_csv(file_path)\n",
    "    \n",
    "    # Calculate the number of chunks\n",
    "    num_chunks = len(df) // chunk_size + (1 if len(df) % chunk_size != 0 else 0)\n",
    "    \n",
    "    # Split the dataframe into chunks and save each chunk as a new CSV file\n",
    "    for i in range(num_chunks):\n",
    "        chunk = df[i*chunk_size:(i+1)*chunk_size]\n",
    "        chunk.to_csv(f'chunk_{i+1}.csv', index=False)\n",
    "        \n",
    "# Example usage\n",
    "split_csv('large_file.csv', 1000)"
   ]
  }
 ],
 "metadata": {
  "language_info": {
   "name": "python"
  }
 },
 "nbformat": 4,
 "nbformat_minor": 2
}
